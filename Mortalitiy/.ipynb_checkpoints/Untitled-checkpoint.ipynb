{
 "cells": [
  {
   "cell_type": "markdown",
   "metadata": {},
   "source": [
    "# Try "
   ]
  },
  {
   "cell_type": "code",
   "execution_count": 12,
   "metadata": {},
   "outputs": [
    {
     "name": "stdout",
     "output_type": "stream",
     "text": [
      "'data.frame':\t74 obs. of  12 variables:\n",
      " $ make        : Factor w/ 74 levels \"AMC Concord\",..: 1 2 3 7 8 9 10 11 12 13 ...\n",
      " $ price       : Factor w/ 74 levels \"3291\",\"3299\",..: 15 34 6 35 60 47 24 41 66 14 ...\n",
      " $ mpg         : Factor w/ 21 levels \"12\",\"14\",\"15\",..: 10 5 10 8 3 6 14 8 4 7 ...\n",
      " $ rep78       : Factor w/ 5 levels \"1\",\"2\",\"3\",\"4\",..: 3 3 NA 3 4 3 NA 3 3 3 ...\n",
      " $ headroom    : Factor w/ 8 levels \"1.5\",\"2\",\"2.5\",..: 3 4 4 7 6 6 4 2 5 5 ...\n",
      " $ trunk       : Factor w/ 18 levels \"5\",\"6\",\"7\",\"8\",..: 7 7 8 12 15 16 6 12 13 9 ...\n",
      " $ weight      : Factor w/ 64 levels \"1760\",\"1800\",..: 30 42 23 36 59 49 16 38 55 44 ...\n",
      " $ length      : Factor w/ 47 levels \"142\",\"147\",\"149\",..: 24 16 12 29 45 42 14 33 38 33 ...\n",
      " $ turn        : Factor w/ 18 levels \"31\",\"32\",\"33\",..: 10 10 5 10 13 13 4 12 13 12 ...\n",
      " $ displacement: Factor w/ 31 levels \"79\",\"85\",\"86\",..: 12 25 12 20 29 23 27 20 23 23 ...\n",
      " $ gear_ratio  : Factor w/ 36 levels \"2.1900001\",\"2.24\",..: 28 8 19 13 5 10 12 13 13 19 ...\n",
      " $ foreign     : Factor w/ 2 levels \"Domestic\",\"Foreign\": 1 1 1 1 1 1 1 1 1 1 ...\n"
     ]
    }
   ],
   "source": [
    "require('tidyverse')\n",
    "root = setwd(\"/home/ces/courses/linear_Models/linear_models/Tbc_resarch/Data\")\n",
    "df = read.csv(\"auto.txt\" ,  sep=',')\n",
    "require('compareGroups')\n",
    "df = data.frame(lapply(df, as.factor))\n",
    "str(df)\n",
    "#table = compareGroups()"
   ]
  }
 ],
 "metadata": {
  "kernelspec": {
   "display_name": "R",
   "language": "R",
   "name": "ir"
  },
  "language_info": {
   "codemirror_mode": "r",
   "file_extension": ".r",
   "mimetype": "text/x-r-source",
   "name": "R",
   "pygments_lexer": "r",
   "version": "4.0.2"
  }
 },
 "nbformat": 4,
 "nbformat_minor": 4
}
