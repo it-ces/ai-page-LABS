{
  "cells": [
    {
      "cell_type": "code",
      "execution_count": 31,
      "metadata": {
        "id": "X-oC9jYAApyE"
      },
      "outputs": [],
      "source": [
        "## Introducing GINI as stopping criteria\n",
        "# Define function to calculate acumlative frequencies\n",
        "import math\n",
        "def acum(array):\n",
        "  # Take in mind that the result not is order\n",
        "  new, N = [], sum(array)\n",
        "  acum = 0\n",
        "  for i in array:\n",
        "    acum = acum + i\n",
        "    new.append(acum/N)\n",
        "  return new\n",
        "\n",
        "#define function to calculate Gini coefficient\n",
        "def gini(data):\n",
        "  Y = acum(sorted(data))\n",
        "  N = acum([1 for _ in range(len(data))])\n",
        "  area = 0\n",
        "  for index in range(1,len(data)):\n",
        "    area +=  ((Y[index-1] + Y[index])) *  (N[index] - N[index-1])\n",
        "  return 1 - area\n",
        "\n",
        "## theil give us a more stable computation!\n",
        "def theil(array):\n",
        "  Y = sum(array)\n",
        "  N = len(array)\n",
        "  relative = [y/Y for y in array]\n",
        "  Theil = sum([y * math.log(y * N) for y in relative])/math.log(N)\n",
        "  return Theil"
      ]
    },
    {
      "cell_type": "code",
      "execution_count": 32,
      "metadata": {
        "id": "pIyCTvB17vTX"
      },
      "outputs": [],
      "source": [
        "import pandas as pd\n",
        "import geopandas as gpd"
      ]
    },
    {
      "cell_type": "code",
      "execution_count": 33,
      "metadata": {
        "id": "W2Ps2LOa8HkJ"
      },
      "outputs": [],
      "source": [
        "url  = \"https://raw.githubusercontent.com/it-ces/Datasets/main/icfes.csv\""
      ]
    },
    {
      "cell_type": "code",
      "execution_count": 34,
      "metadata": {
        "id": "jAhS-vTC72Ff"
      },
      "outputs": [],
      "source": [
        "df = pd.read_csv(url)"
      ]
    },
    {
      "cell_type": "code",
      "execution_count": 35,
      "metadata": {
        "colab": {
          "base_uri": "https://localhost:8080/"
        },
        "id": "VszNOnPa8KW_",
        "outputId": "68520c4a-ed12-4c66-87f1-8f486a301385"
      },
      "outputs": [
        {
          "data": {
            "text/plain": [
              "Index(['Unnamed: 0', 'ESTU_TIPODOCUMENTO', 'ESTU_NACIONALIDAD', 'ESTU_GENERO',\n",
              "       'ESTU_FECHANACIMIENTO', 'PERIODO', 'ESTU_CONSECUTIVO',\n",
              "       'ESTU_ESTUDIANTE', 'ESTU_PAIS_RESIDE', 'ESTU_TIENEETNIA',\n",
              "       'ESTU_DEPTO_RESIDE', 'ESTU_COD_RESIDE_DEPTO', 'ESTU_MCPIO_RESIDE',\n",
              "       'ESTU_COD_RESIDE_MCPIO', 'FAMI_EDUCACIONPADRE', 'FAMI_EDUCACIONMADRE',\n",
              "       'FAMI_ESTRATOVIVIENDA', 'FAMI_PERSONASHOGAR', 'FAMI_CUARTOSHOGAR',\n",
              "       'FAMI_TIENEINTERNET', 'FAMI_TIENECOMPUTADOR', 'FAMI_TIENELAVADORA',\n",
              "       'FAMI_TIENEHORNOMICROOGAS', 'FAMI_TIENESERVICIOTV',\n",
              "       'FAMI_TIENEAUTOMOVIL', 'FAMI_TIENEMOTOCICLETA',\n",
              "       'FAMI_TIENECONSOLAVIDEOJUEGOS', 'FAMI_NUMLIBROS',\n",
              "       'ESTU_DEDICACIONLECTURADIARIA', 'ESTU_DEDICACIONINTERNET',\n",
              "       'ESTU_HORASSEMANATRABAJA', 'ESTU_TIPOREMUNERACION',\n",
              "       'FAMI_COMELECHEDERIVADOS', 'FAMI_COMECARNEPESCADOHUEVO',\n",
              "       'FAMI_COMECEREALFRUTOSLEGUMBRE', 'FAMI_TRABAJOLABORPADRE',\n",
              "       'FAMI_TRABAJOLABORMADRE', 'FAMI_SITUACIONECONOMICA',\n",
              "       'COLE_COD_DANE_ESTABLECIMIENTO', 'COLE_CODIGO_ICFES',\n",
              "       'COLE_NOMBRE_ESTABLECIMIENTO', 'COLE_JORNADA', 'COLE_GENERO',\n",
              "       'COLE_NATURALEZA', 'COLE_CALENDARIO', 'COLE_BILINGUE', 'COLE_CARACTER',\n",
              "       'COLE_COD_DANE_SEDE', 'COLE_NOMBRE_SEDE', 'COLE_SEDE_PRINCIPAL',\n",
              "       'COLE_AREA_UBICACION', 'COLE_COD_MCPIO_UBICACION',\n",
              "       'COLE_MCPIO_UBICACION', 'COLE_COD_DEPTO_UBICACION',\n",
              "       'COLE_DEPTO_UBICACION', 'ESTU_PRIVADO_LIBERTAD',\n",
              "       'ESTU_COD_MCPIO_PRESENTACION', 'ESTU_MCPIO_PRESENTACION',\n",
              "       'ESTU_DEPTO_PRESENTACION', 'ESTU_COD_DEPTO_PRESENTACION',\n",
              "       'PUNT_MATEMATICAS', 'DESEMP_MATEMATICAS', 'PERCENTIL_MATEMATICAS',\n",
              "       'PUNT_INGLES', 'PERCENTIL_INGLES', 'DESEMP_INGLES', 'PUNT_C_NATURALES',\n",
              "       'DESEMP_C_NATURALES', 'PERCENTIL_C_NATURALES', 'PUNT_LECTURA_CRITICA',\n",
              "       'DESEMP_LECTURA_CRITICA', 'PERCENTIL_LECTURA_CRITICA',\n",
              "       'PUNT_SOCIALES_CIUDADANAS', 'DESEMP_SOCIALES_CIUDADANAS',\n",
              "       'PERCENTIL_SOCIALES_CIUDADANAS', 'PUNT_GLOBAL', 'PERCENTIL_GLOBAL',\n",
              "       'PERCENTIL_ESPECIAL_GLOBAL', 'ESTU_INSE_INDIVIDUAL',\n",
              "       'ESTU_NSE_INDIVIDUAL', 'ESTU_NSE_ESTABLECIMIENTO',\n",
              "       'ESTU_ESTADOINVESTIGACION'],\n",
              "      dtype='object')"
            ]
          },
          "execution_count": 35,
          "metadata": {},
          "output_type": "execute_result"
        }
      ],
      "source": [
        "df.columns"
      ]
    },
    {
      "cell_type": "code",
      "execution_count": 36,
      "metadata": {
        "colab": {
          "base_uri": "https://localhost:8080/"
        },
        "id": "q-0YxmVx8QR7",
        "outputId": "e19fa94e-93aa-46ae-a30d-d3ac2534b116"
      },
      "outputs": [
        {
          "data": {
            "text/plain": [
              "0.24245793722133713"
            ]
          },
          "execution_count": 36,
          "metadata": {},
          "output_type": "execute_result"
        }
      ],
      "source": [
        "df['PUNT_MATEMATICAS'].std()/df['PUNT_MATEMATICAS'].mean()"
      ]
    },
    {
      "cell_type": "code",
      "execution_count": 37,
      "metadata": {
        "colab": {
          "base_uri": "https://localhost:8080/"
        },
        "id": "aOAxanlK-pS9",
        "outputId": "58da59a0-da22-4fe6-f372-a5fd2aac07a2"
      },
      "outputs": [
        {
          "data": {
            "text/plain": [
              "0.13761161587415416"
            ]
          },
          "execution_count": 37,
          "metadata": {},
          "output_type": "execute_result"
        }
      ],
      "source": [
        "gini(df['PUNT_MATEMATICAS'])"
      ]
    },
    {
      "cell_type": "code",
      "execution_count": 38,
      "metadata": {
        "colab": {
          "base_uri": "https://localhost:8080/"
        },
        "id": "y9ujN3JT-uFM",
        "outputId": "5670c0af-5080-4fa8-a3bf-aff66d126894"
      },
      "outputs": [
        {
          "data": {
            "text/plain": [
              "0.0038415204519814724"
            ]
          },
          "execution_count": 38,
          "metadata": {},
          "output_type": "execute_result"
        }
      ],
      "source": [
        "theil(df['PUNT_MATEMATICAS'])"
      ]
    },
    {
      "cell_type": "code",
      "execution_count": 39,
      "metadata": {
        "colab": {
          "base_uri": "https://localhost:8080/"
        },
        "id": "NzTkdaGe_yeb",
        "outputId": "030dbb71-597e-4af5-aba8-434f39215f18"
      },
      "outputs": [
        {
          "data": {
            "text/plain": [
              "count    2600.000000\n",
              "mean       50.524615\n",
              "std        12.250094\n",
              "min        16.000000\n",
              "25%        42.000000\n",
              "50%        51.000000\n",
              "75%        59.000000\n",
              "max       100.000000\n",
              "Name: PUNT_MATEMATICAS, dtype: float64"
            ]
          },
          "execution_count": 39,
          "metadata": {},
          "output_type": "execute_result"
        }
      ],
      "source": [
        "df['PUNT_MATEMATICAS'].describe()"
      ]
    },
    {
      "cell_type": "code",
      "execution_count": 40,
      "metadata": {
        "colab": {
          "base_uri": "https://localhost:8080/"
        },
        "id": "gd8rOP6EEKcC",
        "outputId": "0dec725d-3d66-4466-8f1f-53b473100e8a"
      },
      "outputs": [
        {
          "data": {
            "text/plain": [
              "Index(['Unnamed: 0', 'ESTU_TIPODOCUMENTO', 'ESTU_NACIONALIDAD', 'ESTU_GENERO',\n",
              "       'ESTU_FECHANACIMIENTO', 'PERIODO', 'ESTU_CONSECUTIVO',\n",
              "       'ESTU_ESTUDIANTE', 'ESTU_PAIS_RESIDE', 'ESTU_TIENEETNIA',\n",
              "       'ESTU_DEPTO_RESIDE', 'ESTU_COD_RESIDE_DEPTO', 'ESTU_MCPIO_RESIDE',\n",
              "       'ESTU_COD_RESIDE_MCPIO', 'FAMI_EDUCACIONPADRE', 'FAMI_EDUCACIONMADRE',\n",
              "       'FAMI_ESTRATOVIVIENDA', 'FAMI_PERSONASHOGAR', 'FAMI_CUARTOSHOGAR',\n",
              "       'FAMI_TIENEINTERNET', 'FAMI_TIENECOMPUTADOR', 'FAMI_TIENELAVADORA',\n",
              "       'FAMI_TIENEHORNOMICROOGAS', 'FAMI_TIENESERVICIOTV',\n",
              "       'FAMI_TIENEAUTOMOVIL', 'FAMI_TIENEMOTOCICLETA',\n",
              "       'FAMI_TIENECONSOLAVIDEOJUEGOS', 'FAMI_NUMLIBROS',\n",
              "       'ESTU_DEDICACIONLECTURADIARIA', 'ESTU_DEDICACIONINTERNET',\n",
              "       'ESTU_HORASSEMANATRABAJA', 'ESTU_TIPOREMUNERACION',\n",
              "       'FAMI_COMELECHEDERIVADOS', 'FAMI_COMECARNEPESCADOHUEVO',\n",
              "       'FAMI_COMECEREALFRUTOSLEGUMBRE', 'FAMI_TRABAJOLABORPADRE',\n",
              "       'FAMI_TRABAJOLABORMADRE', 'FAMI_SITUACIONECONOMICA',\n",
              "       'COLE_COD_DANE_ESTABLECIMIENTO', 'COLE_CODIGO_ICFES',\n",
              "       'COLE_NOMBRE_ESTABLECIMIENTO', 'COLE_JORNADA', 'COLE_GENERO',\n",
              "       'COLE_NATURALEZA', 'COLE_CALENDARIO', 'COLE_BILINGUE', 'COLE_CARACTER',\n",
              "       'COLE_COD_DANE_SEDE', 'COLE_NOMBRE_SEDE', 'COLE_SEDE_PRINCIPAL',\n",
              "       'COLE_AREA_UBICACION', 'COLE_COD_MCPIO_UBICACION',\n",
              "       'COLE_MCPIO_UBICACION', 'COLE_COD_DEPTO_UBICACION',\n",
              "       'COLE_DEPTO_UBICACION', 'ESTU_PRIVADO_LIBERTAD',\n",
              "       'ESTU_COD_MCPIO_PRESENTACION', 'ESTU_MCPIO_PRESENTACION',\n",
              "       'ESTU_DEPTO_PRESENTACION', 'ESTU_COD_DEPTO_PRESENTACION',\n",
              "       'PUNT_MATEMATICAS', 'DESEMP_MATEMATICAS', 'PERCENTIL_MATEMATICAS',\n",
              "       'PUNT_INGLES', 'PERCENTIL_INGLES', 'DESEMP_INGLES', 'PUNT_C_NATURALES',\n",
              "       'DESEMP_C_NATURALES', 'PERCENTIL_C_NATURALES', 'PUNT_LECTURA_CRITICA',\n",
              "       'DESEMP_LECTURA_CRITICA', 'PERCENTIL_LECTURA_CRITICA',\n",
              "       'PUNT_SOCIALES_CIUDADANAS', 'DESEMP_SOCIALES_CIUDADANAS',\n",
              "       'PERCENTIL_SOCIALES_CIUDADANAS', 'PUNT_GLOBAL', 'PERCENTIL_GLOBAL',\n",
              "       'PERCENTIL_ESPECIAL_GLOBAL', 'ESTU_INSE_INDIVIDUAL',\n",
              "       'ESTU_NSE_INDIVIDUAL', 'ESTU_NSE_ESTABLECIMIENTO',\n",
              "       'ESTU_ESTADOINVESTIGACION'],\n",
              "      dtype='object')"
            ]
          },
          "execution_count": 40,
          "metadata": {},
          "output_type": "execute_result"
        }
      ],
      "source": [
        "df.columns"
      ]
    },
    {
      "cell_type": "code",
      "execution_count": 41,
      "metadata": {
        "id": "ZsvzQCX9D6y4"
      },
      "outputs": [],
      "source": [
        "#'COLE_COD_DEPTO_UBICACION','COLE_DEPTO_UBICACION'\n",
        "df['mean-dpto'] = df.groupby(by=['COLE_COD_DEPTO_UBICACION'])['PUNT_MATEMATICAS'].transform(\"mean\")"
      ]
    },
    {
      "cell_type": "code",
      "execution_count": 42,
      "metadata": {
        "id": "7531zQ73E1zK"
      },
      "outputs": [],
      "source": [
        "df = df[['mean-dpto', 'COLE_COD_DEPTO_UBICACION', 'COLE_DEPTO_UBICACION' ]]"
      ]
    },
    {
      "cell_type": "code",
      "execution_count": 43,
      "metadata": {
        "id": "CvdmQeSbFU_f"
      },
      "outputs": [],
      "source": [
        "df = df.drop_duplicates(subset=['COLE_DEPTO_UBICACION']).reset_index(drop=True)"
      ]
    },
    {
      "cell_type": "code",
      "execution_count": 44,
      "metadata": {
        "id": "4b0KJ-J2F0gA"
      },
      "outputs": [],
      "source": [
        "df['COLE_COD_DEPTO_UBICACION']  = df['COLE_COD_DEPTO_UBICACION'].astype('int64')"
      ]
    },
    {
      "cell_type": "code",
      "execution_count": 45,
      "metadata": {
        "id": "AvC0yhDeGLHQ"
      },
      "outputs": [
        {
          "ename": "DriverError",
          "evalue": "MGN_DPTO_POLITICO.shp: No such file or directory",
          "output_type": "error",
          "traceback": [
            "\u001b[1;31m---------------------------------------------------------------------------\u001b[0m",
            "\u001b[1;31mCPLE_OpenFailedError\u001b[0m                      Traceback (most recent call last)",
            "File \u001b[1;32mfiona\\ogrext.pyx:136\u001b[0m, in \u001b[0;36mfiona.ogrext.gdal_open_vector\u001b[1;34m()\u001b[0m\n",
            "File \u001b[1;32mfiona\\_err.pyx:291\u001b[0m, in \u001b[0;36mfiona._err.exc_wrap_pointer\u001b[1;34m()\u001b[0m\n",
            "\u001b[1;31mCPLE_OpenFailedError\u001b[0m: MGN_DPTO_POLITICO.shp: No such file or directory",
            "\nDuring handling of the above exception, another exception occurred:\n",
            "\u001b[1;31mDriverError\u001b[0m                               Traceback (most recent call last)",
            "Cell \u001b[1;32mIn[45], line 1\u001b[0m\n\u001b[1;32m----> 1\u001b[0m geomap  \u001b[38;5;241m=\u001b[39m \u001b[43mgpd\u001b[49m\u001b[38;5;241;43m.\u001b[39;49m\u001b[43mread_file\u001b[49m\u001b[43m(\u001b[49m\u001b[38;5;124;43m\"\u001b[39;49m\u001b[38;5;124;43mMGN_DPTO_POLITICO.shp\u001b[39;49m\u001b[38;5;124;43m\"\u001b[39;49m\u001b[43m)\u001b[49m\n\u001b[0;32m      2\u001b[0m geomap[\u001b[38;5;124m'\u001b[39m\u001b[38;5;124mDPTO_CCDGO\u001b[39m\u001b[38;5;124m'\u001b[39m] \u001b[38;5;241m=\u001b[39m geomap[\u001b[38;5;124m'\u001b[39m\u001b[38;5;124mDPTO_CCDGO\u001b[39m\u001b[38;5;124m'\u001b[39m]\u001b[38;5;241m.\u001b[39mastype(\u001b[38;5;124m'\u001b[39m\u001b[38;5;124mfloat64\u001b[39m\u001b[38;5;124m'\u001b[39m)\n\u001b[0;32m      3\u001b[0m map_plot \u001b[38;5;241m=\u001b[39m geomap\u001b[38;5;241m.\u001b[39mmerge(df, left_on\u001b[38;5;241m=\u001b[39m[\u001b[38;5;124m'\u001b[39m\u001b[38;5;124mDPTO_CCDGO\u001b[39m\u001b[38;5;124m'\u001b[39m], right_on\u001b[38;5;241m=\u001b[39m[ \u001b[38;5;124m'\u001b[39m\u001b[38;5;124mCOLE_COD_DEPTO_UBICACION\u001b[39m\u001b[38;5;124m'\u001b[39m])\n",
            "File \u001b[1;32mc:\\Users\\iván\\AppData\\Local\\Programs\\Python\\Python311\\Lib\\site-packages\\geopandas\\io\\file.py:281\u001b[0m, in \u001b[0;36m_read_file\u001b[1;34m(filename, bbox, mask, rows, engine, **kwargs)\u001b[0m\n\u001b[0;32m    278\u001b[0m     \u001b[38;5;28;01melse\u001b[39;00m:\n\u001b[0;32m    279\u001b[0m         path_or_bytes \u001b[38;5;241m=\u001b[39m filename\n\u001b[1;32m--> 281\u001b[0m     \u001b[38;5;28;01mreturn\u001b[39;00m \u001b[43m_read_file_fiona\u001b[49m\u001b[43m(\u001b[49m\n\u001b[0;32m    282\u001b[0m \u001b[43m        \u001b[49m\u001b[43mpath_or_bytes\u001b[49m\u001b[43m,\u001b[49m\u001b[43m \u001b[49m\u001b[43mfrom_bytes\u001b[49m\u001b[43m,\u001b[49m\u001b[43m \u001b[49m\u001b[43mbbox\u001b[49m\u001b[38;5;241;43m=\u001b[39;49m\u001b[43mbbox\u001b[49m\u001b[43m,\u001b[49m\u001b[43m \u001b[49m\u001b[43mmask\u001b[49m\u001b[38;5;241;43m=\u001b[39;49m\u001b[43mmask\u001b[49m\u001b[43m,\u001b[49m\u001b[43m \u001b[49m\u001b[43mrows\u001b[49m\u001b[38;5;241;43m=\u001b[39;49m\u001b[43mrows\u001b[49m\u001b[43m,\u001b[49m\u001b[43m \u001b[49m\u001b[38;5;241;43m*\u001b[39;49m\u001b[38;5;241;43m*\u001b[39;49m\u001b[43mkwargs\u001b[49m\n\u001b[0;32m    283\u001b[0m \u001b[43m    \u001b[49m\u001b[43m)\u001b[49m\n\u001b[0;32m    285\u001b[0m \u001b[38;5;28;01melse\u001b[39;00m:\n\u001b[0;32m    286\u001b[0m     \u001b[38;5;28;01mraise\u001b[39;00m \u001b[38;5;167;01mValueError\u001b[39;00m(\u001b[38;5;124mf\u001b[39m\u001b[38;5;124m\"\u001b[39m\u001b[38;5;124munknown engine \u001b[39m\u001b[38;5;124m'\u001b[39m\u001b[38;5;132;01m{\u001b[39;00mengine\u001b[38;5;132;01m}\u001b[39;00m\u001b[38;5;124m'\u001b[39m\u001b[38;5;124m\"\u001b[39m)\n",
            "File \u001b[1;32mc:\\Users\\iván\\AppData\\Local\\Programs\\Python\\Python311\\Lib\\site-packages\\geopandas\\io\\file.py:322\u001b[0m, in \u001b[0;36m_read_file_fiona\u001b[1;34m(path_or_bytes, from_bytes, bbox, mask, rows, where, **kwargs)\u001b[0m\n\u001b[0;32m    319\u001b[0m     reader \u001b[38;5;241m=\u001b[39m fiona\u001b[38;5;241m.\u001b[39mopen\n\u001b[0;32m    321\u001b[0m \u001b[38;5;28;01mwith\u001b[39;00m fiona_env():\n\u001b[1;32m--> 322\u001b[0m     \u001b[38;5;28;01mwith\u001b[39;00m \u001b[43mreader\u001b[49m\u001b[43m(\u001b[49m\u001b[43mpath_or_bytes\u001b[49m\u001b[43m,\u001b[49m\u001b[43m \u001b[49m\u001b[38;5;241;43m*\u001b[39;49m\u001b[38;5;241;43m*\u001b[39;49m\u001b[43mkwargs\u001b[49m\u001b[43m)\u001b[49m \u001b[38;5;28;01mas\u001b[39;00m features:\n\u001b[0;32m    323\u001b[0m         crs \u001b[38;5;241m=\u001b[39m features\u001b[38;5;241m.\u001b[39mcrs_wkt\n\u001b[0;32m    324\u001b[0m         \u001b[38;5;66;03m# attempt to get EPSG code\u001b[39;00m\n",
            "File \u001b[1;32mc:\\Users\\iván\\AppData\\Local\\Programs\\Python\\Python311\\Lib\\site-packages\\fiona\\env.py:457\u001b[0m, in \u001b[0;36mensure_env_with_credentials.<locals>.wrapper\u001b[1;34m(*args, **kwds)\u001b[0m\n\u001b[0;32m    454\u001b[0m     session \u001b[38;5;241m=\u001b[39m DummySession()\n\u001b[0;32m    456\u001b[0m \u001b[38;5;28;01mwith\u001b[39;00m env_ctor(session\u001b[38;5;241m=\u001b[39msession):\n\u001b[1;32m--> 457\u001b[0m     \u001b[38;5;28;01mreturn\u001b[39;00m \u001b[43mf\u001b[49m\u001b[43m(\u001b[49m\u001b[38;5;241;43m*\u001b[39;49m\u001b[43margs\u001b[49m\u001b[43m,\u001b[49m\u001b[43m \u001b[49m\u001b[38;5;241;43m*\u001b[39;49m\u001b[38;5;241;43m*\u001b[39;49m\u001b[43mkwds\u001b[49m\u001b[43m)\u001b[49m\n",
            "File \u001b[1;32mc:\\Users\\iván\\AppData\\Local\\Programs\\Python\\Python311\\Lib\\site-packages\\fiona\\__init__.py:308\u001b[0m, in \u001b[0;36mopen\u001b[1;34m(fp, mode, driver, schema, crs, encoding, layer, vfs, enabled_drivers, crs_wkt, allow_unsupported_drivers, **kwargs)\u001b[0m\n\u001b[0;32m    305\u001b[0m     path \u001b[38;5;241m=\u001b[39m parse_path(fp)\n\u001b[0;32m    307\u001b[0m \u001b[38;5;28;01mif\u001b[39;00m mode \u001b[38;5;129;01min\u001b[39;00m (\u001b[38;5;124m\"\u001b[39m\u001b[38;5;124ma\u001b[39m\u001b[38;5;124m\"\u001b[39m, \u001b[38;5;124m\"\u001b[39m\u001b[38;5;124mr\u001b[39m\u001b[38;5;124m\"\u001b[39m):\n\u001b[1;32m--> 308\u001b[0m     colxn \u001b[38;5;241m=\u001b[39m \u001b[43mCollection\u001b[49m\u001b[43m(\u001b[49m\n\u001b[0;32m    309\u001b[0m \u001b[43m        \u001b[49m\u001b[43mpath\u001b[49m\u001b[43m,\u001b[49m\n\u001b[0;32m    310\u001b[0m \u001b[43m        \u001b[49m\u001b[43mmode\u001b[49m\u001b[43m,\u001b[49m\n\u001b[0;32m    311\u001b[0m \u001b[43m        \u001b[49m\u001b[43mdriver\u001b[49m\u001b[38;5;241;43m=\u001b[39;49m\u001b[43mdriver\u001b[49m\u001b[43m,\u001b[49m\n\u001b[0;32m    312\u001b[0m \u001b[43m        \u001b[49m\u001b[43mencoding\u001b[49m\u001b[38;5;241;43m=\u001b[39;49m\u001b[43mencoding\u001b[49m\u001b[43m,\u001b[49m\n\u001b[0;32m    313\u001b[0m \u001b[43m        \u001b[49m\u001b[43mlayer\u001b[49m\u001b[38;5;241;43m=\u001b[39;49m\u001b[43mlayer\u001b[49m\u001b[43m,\u001b[49m\n\u001b[0;32m    314\u001b[0m \u001b[43m        \u001b[49m\u001b[43menabled_drivers\u001b[49m\u001b[38;5;241;43m=\u001b[39;49m\u001b[43menabled_drivers\u001b[49m\u001b[43m,\u001b[49m\n\u001b[0;32m    315\u001b[0m \u001b[43m        \u001b[49m\u001b[43mallow_unsupported_drivers\u001b[49m\u001b[38;5;241;43m=\u001b[39;49m\u001b[43mallow_unsupported_drivers\u001b[49m\u001b[43m,\u001b[49m\n\u001b[0;32m    316\u001b[0m \u001b[43m        \u001b[49m\u001b[38;5;241;43m*\u001b[39;49m\u001b[38;5;241;43m*\u001b[39;49m\u001b[43mkwargs\u001b[49m\n\u001b[0;32m    317\u001b[0m \u001b[43m    \u001b[49m\u001b[43m)\u001b[49m\n\u001b[0;32m    318\u001b[0m \u001b[38;5;28;01melif\u001b[39;00m mode \u001b[38;5;241m==\u001b[39m \u001b[38;5;124m\"\u001b[39m\u001b[38;5;124mw\u001b[39m\u001b[38;5;124m\"\u001b[39m:\n\u001b[0;32m    319\u001b[0m     colxn \u001b[38;5;241m=\u001b[39m Collection(\n\u001b[0;32m    320\u001b[0m         path,\n\u001b[0;32m    321\u001b[0m         mode,\n\u001b[1;32m   (...)\u001b[0m\n\u001b[0;32m    330\u001b[0m         \u001b[38;5;241m*\u001b[39m\u001b[38;5;241m*\u001b[39mkwargs\n\u001b[0;32m    331\u001b[0m     )\n",
            "File \u001b[1;32mc:\\Users\\iván\\AppData\\Local\\Programs\\Python\\Python311\\Lib\\site-packages\\fiona\\collection.py:243\u001b[0m, in \u001b[0;36mCollection.__init__\u001b[1;34m(self, path, mode, driver, schema, crs, encoding, layer, vsi, archive, enabled_drivers, crs_wkt, ignore_fields, ignore_geometry, include_fields, wkt_version, allow_unsupported_drivers, **kwargs)\u001b[0m\n\u001b[0;32m    241\u001b[0m \u001b[38;5;28;01mif\u001b[39;00m \u001b[38;5;28mself\u001b[39m\u001b[38;5;241m.\u001b[39mmode \u001b[38;5;241m==\u001b[39m \u001b[38;5;124m\"\u001b[39m\u001b[38;5;124mr\u001b[39m\u001b[38;5;124m\"\u001b[39m:\n\u001b[0;32m    242\u001b[0m     \u001b[38;5;28mself\u001b[39m\u001b[38;5;241m.\u001b[39msession \u001b[38;5;241m=\u001b[39m Session()\n\u001b[1;32m--> 243\u001b[0m     \u001b[38;5;28;43mself\u001b[39;49m\u001b[38;5;241;43m.\u001b[39;49m\u001b[43msession\u001b[49m\u001b[38;5;241;43m.\u001b[39;49m\u001b[43mstart\u001b[49m\u001b[43m(\u001b[49m\u001b[38;5;28;43mself\u001b[39;49m\u001b[43m,\u001b[49m\u001b[43m \u001b[49m\u001b[38;5;241;43m*\u001b[39;49m\u001b[38;5;241;43m*\u001b[39;49m\u001b[43mkwargs\u001b[49m\u001b[43m)\u001b[49m\n\u001b[0;32m    244\u001b[0m \u001b[38;5;28;01melif\u001b[39;00m \u001b[38;5;28mself\u001b[39m\u001b[38;5;241m.\u001b[39mmode \u001b[38;5;129;01min\u001b[39;00m (\u001b[38;5;124m\"\u001b[39m\u001b[38;5;124ma\u001b[39m\u001b[38;5;124m\"\u001b[39m, \u001b[38;5;124m\"\u001b[39m\u001b[38;5;124mw\u001b[39m\u001b[38;5;124m\"\u001b[39m):\n\u001b[0;32m    245\u001b[0m     \u001b[38;5;28mself\u001b[39m\u001b[38;5;241m.\u001b[39msession \u001b[38;5;241m=\u001b[39m WritingSession()\n",
            "File \u001b[1;32mfiona\\ogrext.pyx:588\u001b[0m, in \u001b[0;36mfiona.ogrext.Session.start\u001b[1;34m()\u001b[0m\n",
            "File \u001b[1;32mfiona\\ogrext.pyx:143\u001b[0m, in \u001b[0;36mfiona.ogrext.gdal_open_vector\u001b[1;34m()\u001b[0m\n",
            "\u001b[1;31mDriverError\u001b[0m: MGN_DPTO_POLITICO.shp: No such file or directory"
          ]
        }
      ],
      "source": [
        "geomap  = gpd.read_file(\"MGN_DPTO_POLITICO.shp\")\n",
        "geomap['DPTO_CCDGO'] = geomap['DPTO_CCDGO'].astype('float64')\n",
        "map_plot = geomap.merge(df, left_on=['DPTO_CCDGO'], right_on=[ 'COLE_COD_DEPTO_UBICACION'])"
      ]
    },
    {
      "cell_type": "code",
      "execution_count": null,
      "metadata": {
        "id": "rTWmPrz-F26C"
      },
      "outputs": [],
      "source": [
        "import numpy as np\n",
        "import matplotlib.pyplot as plt\n",
        "map_plot.replace(0,np.nan, inplace=True)\n",
        "map_plot.plot(\n",
        "column=\"mean-dpto\",\n",
        "cmap='binary',\n",
        "edgecolor='black',\n",
        "alpha=1,\n",
        "legend=True,\n",
        "figsize=(14, 14),\n",
        "missing_kwds={\n",
        "        \"color\": \"white\",\n",
        "        \"edgecolor\": \"gray\",\n",
        "        \"hatch\": \"///\",\n",
        "        \"label\": \"Missing values\",    },\n",
        "legend_kwds={\n",
        "     'label': \"Tasa promedio municipal de lectura crítica\",\n",
        "    'orientation': \"vertical\"\n",
        " })\n",
        "plt.savefig(\"Mapa.png\")"
      ]
    },
    {
      "cell_type": "code",
      "execution_count": null,
      "metadata": {
        "id": "Raz0EX180NAZ"
      },
      "outputs": [],
      "source": []
    }
  ],
  "metadata": {
    "colab": {
      "provenance": []
    },
    "kernelspec": {
      "display_name": "Python 3",
      "name": "python3"
    },
    "language_info": {
      "codemirror_mode": {
        "name": "ipython",
        "version": 3
      },
      "file_extension": ".py",
      "mimetype": "text/x-python",
      "name": "python",
      "nbconvert_exporter": "python",
      "pygments_lexer": "ipython3",
      "version": "3.11.4"
    }
  },
  "nbformat": 4,
  "nbformat_minor": 0
}
