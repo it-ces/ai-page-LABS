{
  "nbformat": 4,
  "nbformat_minor": 0,
  "metadata": {
    "colab": {
      "provenance": []
    },
    "kernelspec": {
      "name": "python3",
      "display_name": "Python 3"
    },
    "language_info": {
      "name": "python"
    }
  },
  "cells": [
    {
      "cell_type": "code",
      "execution_count": null,
      "metadata": {
        "id": "X-oC9jYAApyE"
      },
      "outputs": [],
      "source": [
        "## Introducing GINI as stopping criteria\n",
        "# Define function to calculate acumlative frequencies\n",
        "import math\n",
        "def acum(array):\n",
        "  # Take in mind that the result not is order\n",
        "  new, N = [], sum(array)\n",
        "  acum = 0\n",
        "  for i in array:\n",
        "    acum = acum + i\n",
        "    new.append(acum/N)\n",
        "  return new\n",
        "\n",
        "#define function to calculate Gini coefficient\n",
        "def gini(data):\n",
        "  Y = acum(sorted(data))\n",
        "  N = acum([1 for _ in range(len(data))])\n",
        "  area = 0\n",
        "  for index in range(1,len(data)):\n",
        "    area +=  ((Y[index-1] + Y[index])) *  (N[index] - N[index-1])\n",
        "  return 1 - area\n",
        "\n",
        "## theil give us a more stable computation!\n",
        "def theil(array):\n",
        "  Y = sum(array)\n",
        "  N = len(array)\n",
        "  relative = [y/Y for y in array]\n",
        "  Theil = sum([y * math.log(y * N) for y in relative])/math.log(N)\n",
        "  return Theil"
      ]
    },
    {
      "cell_type": "code",
      "source": [
        "import pandas as pd"
      ],
      "metadata": {
        "id": "pIyCTvB17vTX"
      },
      "execution_count": null,
      "outputs": []
    },
    {
      "cell_type": "code",
      "source": [
        "url  = \"https://raw.githubusercontent.com/it-ces/Datasets/main/icfes.csv\""
      ],
      "metadata": {
        "id": "W2Ps2LOa8HkJ"
      },
      "execution_count": null,
      "outputs": []
    },
    {
      "cell_type": "code",
      "source": [
        "df = pd.read_csv(url)"
      ],
      "metadata": {
        "id": "jAhS-vTC72Ff"
      },
      "execution_count": null,
      "outputs": []
    },
    {
      "cell_type": "code",
      "source": [
        "df.columns"
      ],
      "metadata": {
        "colab": {
          "base_uri": "https://localhost:8080/"
        },
        "id": "VszNOnPa8KW_",
        "outputId": "68520c4a-ed12-4c66-87f1-8f486a301385"
      },
      "execution_count": null,
      "outputs": [
        {
          "output_type": "execute_result",
          "data": {
            "text/plain": [
              "Index(['Unnamed: 0', 'ESTU_TIPODOCUMENTO', 'ESTU_NACIONALIDAD', 'ESTU_GENERO',\n",
              "       'ESTU_FECHANACIMIENTO', 'PERIODO', 'ESTU_CONSECUTIVO',\n",
              "       'ESTU_ESTUDIANTE', 'ESTU_PAIS_RESIDE', 'ESTU_TIENEETNIA',\n",
              "       'ESTU_DEPTO_RESIDE', 'ESTU_COD_RESIDE_DEPTO', 'ESTU_MCPIO_RESIDE',\n",
              "       'ESTU_COD_RESIDE_MCPIO', 'FAMI_EDUCACIONPADRE', 'FAMI_EDUCACIONMADRE',\n",
              "       'FAMI_ESTRATOVIVIENDA', 'FAMI_PERSONASHOGAR', 'FAMI_CUARTOSHOGAR',\n",
              "       'FAMI_TIENEINTERNET', 'FAMI_TIENECOMPUTADOR', 'FAMI_TIENELAVADORA',\n",
              "       'FAMI_TIENEHORNOMICROOGAS', 'FAMI_TIENESERVICIOTV',\n",
              "       'FAMI_TIENEAUTOMOVIL', 'FAMI_TIENEMOTOCICLETA',\n",
              "       'FAMI_TIENECONSOLAVIDEOJUEGOS', 'FAMI_NUMLIBROS',\n",
              "       'ESTU_DEDICACIONLECTURADIARIA', 'ESTU_DEDICACIONINTERNET',\n",
              "       'ESTU_HORASSEMANATRABAJA', 'ESTU_TIPOREMUNERACION',\n",
              "       'FAMI_COMELECHEDERIVADOS', 'FAMI_COMECARNEPESCADOHUEVO',\n",
              "       'FAMI_COMECEREALFRUTOSLEGUMBRE', 'FAMI_TRABAJOLABORPADRE',\n",
              "       'FAMI_TRABAJOLABORMADRE', 'FAMI_SITUACIONECONOMICA',\n",
              "       'COLE_COD_DANE_ESTABLECIMIENTO', 'COLE_CODIGO_ICFES',\n",
              "       'COLE_NOMBRE_ESTABLECIMIENTO', 'COLE_JORNADA', 'COLE_GENERO',\n",
              "       'COLE_NATURALEZA', 'COLE_CALENDARIO', 'COLE_BILINGUE', 'COLE_CARACTER',\n",
              "       'COLE_COD_DANE_SEDE', 'COLE_NOMBRE_SEDE', 'COLE_SEDE_PRINCIPAL',\n",
              "       'COLE_AREA_UBICACION', 'COLE_COD_MCPIO_UBICACION',\n",
              "       'COLE_MCPIO_UBICACION', 'COLE_COD_DEPTO_UBICACION',\n",
              "       'COLE_DEPTO_UBICACION', 'ESTU_PRIVADO_LIBERTAD',\n",
              "       'ESTU_COD_MCPIO_PRESENTACION', 'ESTU_MCPIO_PRESENTACION',\n",
              "       'ESTU_DEPTO_PRESENTACION', 'ESTU_COD_DEPTO_PRESENTACION',\n",
              "       'PUNT_MATEMATICAS', 'DESEMP_MATEMATICAS', 'PERCENTIL_MATEMATICAS',\n",
              "       'PUNT_INGLES', 'PERCENTIL_INGLES', 'DESEMP_INGLES', 'PUNT_C_NATURALES',\n",
              "       'DESEMP_C_NATURALES', 'PERCENTIL_C_NATURALES', 'PUNT_LECTURA_CRITICA',\n",
              "       'DESEMP_LECTURA_CRITICA', 'PERCENTIL_LECTURA_CRITICA',\n",
              "       'PUNT_SOCIALES_CIUDADANAS', 'DESEMP_SOCIALES_CIUDADANAS',\n",
              "       'PERCENTIL_SOCIALES_CIUDADANAS', 'PUNT_GLOBAL', 'PERCENTIL_GLOBAL',\n",
              "       'PERCENTIL_ESPECIAL_GLOBAL', 'ESTU_INSE_INDIVIDUAL',\n",
              "       'ESTU_NSE_INDIVIDUAL', 'ESTU_NSE_ESTABLECIMIENTO',\n",
              "       'ESTU_ESTADOINVESTIGACION'],\n",
              "      dtype='object')"
            ]
          },
          "metadata": {},
          "execution_count": 85
        }
      ]
    },
    {
      "cell_type": "code",
      "source": [
        "df['PUNT_MATEMATICAS'].std()/df['PUNT_MATEMATICAS'].mean()"
      ],
      "metadata": {
        "colab": {
          "base_uri": "https://localhost:8080/"
        },
        "id": "q-0YxmVx8QR7",
        "outputId": "e19fa94e-93aa-46ae-a30d-d3ac2534b116"
      },
      "execution_count": null,
      "outputs": [
        {
          "output_type": "execute_result",
          "data": {
            "text/plain": [
              "0.24245793722133713"
            ]
          },
          "metadata": {},
          "execution_count": 86
        }
      ]
    },
    {
      "cell_type": "code",
      "source": [
        "gini(df['PUNT_MATEMATICAS'])"
      ],
      "metadata": {
        "colab": {
          "base_uri": "https://localhost:8080/"
        },
        "id": "aOAxanlK-pS9",
        "outputId": "58da59a0-da22-4fe6-f372-a5fd2aac07a2"
      },
      "execution_count": null,
      "outputs": [
        {
          "output_type": "execute_result",
          "data": {
            "text/plain": [
              "0.13761161587415416"
            ]
          },
          "metadata": {},
          "execution_count": 87
        }
      ]
    },
    {
      "cell_type": "code",
      "source": [
        "theil(df['PUNT_MATEMATICAS'])"
      ],
      "metadata": {
        "colab": {
          "base_uri": "https://localhost:8080/"
        },
        "id": "y9ujN3JT-uFM",
        "outputId": "5670c0af-5080-4fa8-a3bf-aff66d126894"
      },
      "execution_count": null,
      "outputs": [
        {
          "output_type": "execute_result",
          "data": {
            "text/plain": [
              "0.0038415204519814724"
            ]
          },
          "metadata": {},
          "execution_count": 88
        }
      ]
    },
    {
      "cell_type": "code",
      "source": [
        "df['PUNT_MATEMATICAS'].describe()"
      ],
      "metadata": {
        "colab": {
          "base_uri": "https://localhost:8080/"
        },
        "id": "NzTkdaGe_yeb",
        "outputId": "030dbb71-597e-4af5-aba8-434f39215f18"
      },
      "execution_count": null,
      "outputs": [
        {
          "output_type": "execute_result",
          "data": {
            "text/plain": [
              "count    2600.000000\n",
              "mean       50.524615\n",
              "std        12.250094\n",
              "min        16.000000\n",
              "25%        42.000000\n",
              "50%        51.000000\n",
              "75%        59.000000\n",
              "max       100.000000\n",
              "Name: PUNT_MATEMATICAS, dtype: float64"
            ]
          },
          "metadata": {},
          "execution_count": 89
        }
      ]
    },
    {
      "cell_type": "code",
      "source": [
        "df.columns"
      ],
      "metadata": {
        "colab": {
          "base_uri": "https://localhost:8080/"
        },
        "id": "gd8rOP6EEKcC",
        "outputId": "0dec725d-3d66-4466-8f1f-53b473100e8a"
      },
      "execution_count": null,
      "outputs": [
        {
          "output_type": "execute_result",
          "data": {
            "text/plain": [
              "Index(['Unnamed: 0', 'ESTU_TIPODOCUMENTO', 'ESTU_NACIONALIDAD', 'ESTU_GENERO',\n",
              "       'ESTU_FECHANACIMIENTO', 'PERIODO', 'ESTU_CONSECUTIVO',\n",
              "       'ESTU_ESTUDIANTE', 'ESTU_PAIS_RESIDE', 'ESTU_TIENEETNIA',\n",
              "       'ESTU_DEPTO_RESIDE', 'ESTU_COD_RESIDE_DEPTO', 'ESTU_MCPIO_RESIDE',\n",
              "       'ESTU_COD_RESIDE_MCPIO', 'FAMI_EDUCACIONPADRE', 'FAMI_EDUCACIONMADRE',\n",
              "       'FAMI_ESTRATOVIVIENDA', 'FAMI_PERSONASHOGAR', 'FAMI_CUARTOSHOGAR',\n",
              "       'FAMI_TIENEINTERNET', 'FAMI_TIENECOMPUTADOR', 'FAMI_TIENELAVADORA',\n",
              "       'FAMI_TIENEHORNOMICROOGAS', 'FAMI_TIENESERVICIOTV',\n",
              "       'FAMI_TIENEAUTOMOVIL', 'FAMI_TIENEMOTOCICLETA',\n",
              "       'FAMI_TIENECONSOLAVIDEOJUEGOS', 'FAMI_NUMLIBROS',\n",
              "       'ESTU_DEDICACIONLECTURADIARIA', 'ESTU_DEDICACIONINTERNET',\n",
              "       'ESTU_HORASSEMANATRABAJA', 'ESTU_TIPOREMUNERACION',\n",
              "       'FAMI_COMELECHEDERIVADOS', 'FAMI_COMECARNEPESCADOHUEVO',\n",
              "       'FAMI_COMECEREALFRUTOSLEGUMBRE', 'FAMI_TRABAJOLABORPADRE',\n",
              "       'FAMI_TRABAJOLABORMADRE', 'FAMI_SITUACIONECONOMICA',\n",
              "       'COLE_COD_DANE_ESTABLECIMIENTO', 'COLE_CODIGO_ICFES',\n",
              "       'COLE_NOMBRE_ESTABLECIMIENTO', 'COLE_JORNADA', 'COLE_GENERO',\n",
              "       'COLE_NATURALEZA', 'COLE_CALENDARIO', 'COLE_BILINGUE', 'COLE_CARACTER',\n",
              "       'COLE_COD_DANE_SEDE', 'COLE_NOMBRE_SEDE', 'COLE_SEDE_PRINCIPAL',\n",
              "       'COLE_AREA_UBICACION', 'COLE_COD_MCPIO_UBICACION',\n",
              "       'COLE_MCPIO_UBICACION', 'COLE_COD_DEPTO_UBICACION',\n",
              "       'COLE_DEPTO_UBICACION', 'ESTU_PRIVADO_LIBERTAD',\n",
              "       'ESTU_COD_MCPIO_PRESENTACION', 'ESTU_MCPIO_PRESENTACION',\n",
              "       'ESTU_DEPTO_PRESENTACION', 'ESTU_COD_DEPTO_PRESENTACION',\n",
              "       'PUNT_MATEMATICAS', 'DESEMP_MATEMATICAS', 'PERCENTIL_MATEMATICAS',\n",
              "       'PUNT_INGLES', 'PERCENTIL_INGLES', 'DESEMP_INGLES', 'PUNT_C_NATURALES',\n",
              "       'DESEMP_C_NATURALES', 'PERCENTIL_C_NATURALES', 'PUNT_LECTURA_CRITICA',\n",
              "       'DESEMP_LECTURA_CRITICA', 'PERCENTIL_LECTURA_CRITICA',\n",
              "       'PUNT_SOCIALES_CIUDADANAS', 'DESEMP_SOCIALES_CIUDADANAS',\n",
              "       'PERCENTIL_SOCIALES_CIUDADANAS', 'PUNT_GLOBAL', 'PERCENTIL_GLOBAL',\n",
              "       'PERCENTIL_ESPECIAL_GLOBAL', 'ESTU_INSE_INDIVIDUAL',\n",
              "       'ESTU_NSE_INDIVIDUAL', 'ESTU_NSE_ESTABLECIMIENTO',\n",
              "       'ESTU_ESTADOINVESTIGACION'],\n",
              "      dtype='object')"
            ]
          },
          "metadata": {},
          "execution_count": 90
        }
      ]
    },
    {
      "cell_type": "code",
      "source": [
        "#'COLE_COD_DEPTO_UBICACION','COLE_DEPTO_UBICACION'\n",
        "df['mean-dpto'] = df.groupby(by=['COLE_COD_DEPTO_UBICACION'])['PUNT_MATEMATICAS'].transform(\"mean\")"
      ],
      "metadata": {
        "id": "ZsvzQCX9D6y4"
      },
      "execution_count": null,
      "outputs": []
    },
    {
      "cell_type": "code",
      "source": [
        "df = df[['mean-dpto', 'COLE_COD_DEPTO_UBICACION', 'COLE_DEPTO_UBICACION' ]]"
      ],
      "metadata": {
        "id": "7531zQ73E1zK"
      },
      "execution_count": null,
      "outputs": []
    },
    {
      "cell_type": "code",
      "source": [
        "df = df.drop_duplicates(subset=['COLE_DEPTO_UBICACION']).reset_index(drop=True)"
      ],
      "metadata": {
        "id": "CvdmQeSbFU_f"
      },
      "execution_count": null,
      "outputs": []
    },
    {
      "cell_type": "code",
      "source": [
        "df['COLE_COD_DEPTO_UBICACION']  = df['COLE_COD_DEPTO_UBICACION'].astype('int64')"
      ],
      "metadata": {
        "id": "4b0KJ-J2F0gA"
      },
      "execution_count": null,
      "outputs": []
    },
    {
      "cell_type": "code",
      "source": [
        "geomap  = gpd.read_file(\"MGN_DPTO_POLITICO.shp\")\n",
        "geomap['DPTO_CCDGO'] = geomap['DPTO_CCDGO'].astype('float64')\n",
        "map_plot = geomap.merge(df, left_on=['DPTO_CCDGO'], right_on=[ 'COLE_COD_DEPTO_UBICACION'])"
      ],
      "metadata": {
        "id": "AvC0yhDeGLHQ"
      },
      "execution_count": null,
      "outputs": []
    },
    {
      "cell_type": "code",
      "source": [
        "import numpy as np\n",
        "import matplotlib.pyplot as plt\n",
        "map_plot.replace(0,np.nan, inplace=True)\n",
        "map_plot.plot(\n",
        "column=\"mean-dpto\",\n",
        "cmap='binary',\n",
        "edgecolor='black',\n",
        "alpha=1,\n",
        "legend=True,\n",
        "figsize=(14, 14),\n",
        "missing_kwds={\n",
        "        \"color\": \"white\",\n",
        "        \"edgecolor\": \"gray\",\n",
        "        \"hatch\": \"///\",\n",
        "        \"label\": \"Missing values\",    },\n",
        "legend_kwds={\n",
        "     'label': \"Tasa promedio municipal de lectura crítica\",\n",
        "    'orientation': \"vertical\"\n",
        " })\n",
        "plt.savefig(\"Mapa.png\")"
      ],
      "metadata": {
        "id": "rTWmPrz-F26C"
      },
      "execution_count": null,
      "outputs": []
    },
    {
      "cell_type": "code",
      "source": [],
      "metadata": {
        "id": "Raz0EX180NAZ"
      },
      "execution_count": null,
      "outputs": []
    }
  ]
}